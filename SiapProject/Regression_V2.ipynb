{
 "cells": [
  {
   "cell_type": "markdown",
   "metadata": {},
   "source": [
    "## Imports"
   ]
  },
  {
   "cell_type": "code",
   "execution_count": 1,
   "metadata": {
    "collapsed": true
   },
   "outputs": [],
   "source": [
    "import readData\n",
    "import first\n",
    "import pandas as pd\n",
    "import statsmodels.formula.api as smf"
   ]
  },
  {
   "cell_type": "markdown",
   "metadata": {},
   "source": [
    "## Predikcija tezine deteta\n",
    "### Data mining je pokazao da su sledece promenljive u najvecoj korelaciji sa ciljnom promenljivom \"totalwgt_kg\""
   ]
  },
  {
   "cell_type": "markdown",
   "metadata": {},
   "source": [
    "totalwgt_lb 1.0\n",
    "totalwgt_kg 1.0\n",
    "birthwgt_lb 0.94980467921 BD-3 BIRTHWEIGHT IN POUNDS - 1ST BABY FROM THIS PREGNANCY\n",
    "lbw1 0.29677557587 LOW BIRTHWEIGHT - BABY 1\n",
    "prglngth 0.124457431481 DURATION OF COMPLETED PREGNANCY IN WEEKS\n",
    "wksgest 0.116741311338 GESTATIONAL LENGTH OF COMPLETED PREGNANCY (IN WEEKS)\n",
    "mosgest 0.0216074471734 GESTATIONAL LENGTH OF COMPLETED PREGNANCY (IN MONTHS)\n",
    "babysex 0.0132693426178 BD-2 SEX OF 1ST LIVEBORN BABY FROM THIS PREGNANCY\n",
    "race_r 0.0124701016314 RACE\n",
    "race 0.0124701016314 RACE\n",
    "paydu 0.0117008121449 IB-10 CURRENT LIVING QUARTERS OWNED/RENTED, ETC\n",
    "rmarout03 0.0111530980604 INFORMAL MARITAL STATUS WHEN PREGNANCY ENDED - 3RD\n",
    "rmarout6 0.0102049393319 INFORMAL MARITAL STATUS AT PREGNANCY OUTCOME - 6 CATEGORIES\n",
    "nbrnaliv 0.0100469976218 BC-2 NUMBER OF BABIES BORN ALIVE FROM THIS PREGNANCY\n",
    "totincr 0.00991250764533 TOTAL INCOME OF R'S FAMILY\n",
    "fmarcon5 0.00978480805552 FORMAL MARITAL STATUS AT CONCEPTION - 5 CATEGORIES\n",
    "anynurse 0.00977733797509 BH-1 WHETHER R BREASTFED THIS CHILD AT ALL - 1ST FROM THIS PREG\n",
    "marout03 0.00938657718235 FORMAL MARITAL STATUS WHEN PREGNANCY ENDED - 3RD\n",
    "rmarout01 0.00934827776446 INFORMAL MARITAL STATUS WHEN PREGNANCY ENDED - 1ST\n",
    "marout01 0.00925000423337 FORMAL MARITAL STATUS WHEN PREGNANCY ENDED - 1ST\n",
    "fmarout5 0.00923513646347 FORMAL MARITAL STATUS AT PREGNANCY OUTCOME\n",
    "marcon03 0.00919235339658 FORMAL MARITAL STATUS WHEN PREGNANCY BEGAN - 3RD\n",
    "cebow 0.00913605475556 NUMBER OF CHILDREN BORN OUT OF WEDLOCK\n",
    "ageprg03 0.00876593611357 AGE WHEN PREGNANCY ENDED - 3RD\n",
    "pmarpreg 0.0085917477251 WHETHER PREGNANCY ENDED BEFORE R'S 1ST MARRIAGE (PREMARITALLY)\n",
    "b1premar 0.00842277473568 WHETHER R'S FIRST BIRTH WAS PREMARITAL\n",
    "mar1bir1 0.00835054554265 MONTHS BTW/1ST MARRIAGE & 1ST BIRTH (OR INTERVIEW)\n",
    "agecon03 0.00823395478373 AGE WHEN PREGNANCY BEGAN - 3RD\n",
    "ageprg02 0.00814008906176 AGE WHEN PREGNANCY ENDED - 2ND\n",
    "agecon02 0.00800637677066 AGE WHEN PREGNANCY BEGAN - 2ND"
   ]
  },
  {
   "cell_type": "markdown",
   "metadata": {},
   "source": [
    "##### Ucitavanje i spajanje podataka"
   ]
  },
  {
   "cell_type": "code",
   "execution_count": 4,
   "metadata": {
    "collapsed": true
   },
   "outputs": [],
   "source": [
    "df = readData.ReadFemPreg()\n",
    "df['live_outcome'] = (df.outcome == 1).astype(int)\n",
    "training_set = readData.GetTrainingData(df)\n",
    "test_set = readData.GetTestData(df)\n",
    "\n",
    "#live = live[live.prglngth>30]\n",
    "resp = readData.ReadFemResp()\n",
    "resp.index = resp.caseid\n",
    "join = df.join(resp, on='caseid', rsuffix='_r')\n"
   ]
  },
  {
   "cell_type": "markdown",
   "metadata": {},
   "source": [
    "## Multi regression"
   ]
  },
  {
   "cell_type": "code",
   "execution_count": 5,
   "metadata": {
    "collapsed": false
   },
   "outputs": [
    {
     "data": {
      "text/html": [
       "<table class=\"simpletable\">\n",
       "<caption>OLS Regression Results</caption>\n",
       "<tr>\n",
       "  <th>Dep. Variable:</th>       <td>totalwgt_kg</td>   <th>  R-squared:         </th> <td>   0.067</td> \n",
       "</tr>\n",
       "<tr>\n",
       "  <th>Model:</th>                   <td>OLS</td>       <th>  Adj. R-squared:    </th> <td>   0.066</td> \n",
       "</tr>\n",
       "<tr>\n",
       "  <th>Method:</th>             <td>Least Squares</td>  <th>  F-statistic:       </th> <td>   92.14</td> \n",
       "</tr>\n",
       "<tr>\n",
       "  <th>Date:</th>             <td>Mon, 17 Apr 2017</td> <th>  Prob (F-statistic):</th> <td>2.48e-130</td>\n",
       "</tr>\n",
       "<tr>\n",
       "  <th>Time:</th>                 <td>20:57:15</td>     <th>  Log-Likelihood:    </th> <td> -8461.5</td> \n",
       "</tr>\n",
       "<tr>\n",
       "  <th>No. Observations:</th>      <td>  9038</td>      <th>  AIC:               </th> <td>1.694e+04</td>\n",
       "</tr>\n",
       "<tr>\n",
       "  <th>Df Residuals:</th>          <td>  9030</td>      <th>  BIC:               </th> <td>1.700e+04</td>\n",
       "</tr>\n",
       "<tr>\n",
       "  <th>Df Model:</th>              <td>     7</td>      <th>                     </th>     <td> </td>    \n",
       "</tr>\n",
       "<tr>\n",
       "  <th>Covariance Type:</th>      <td>nonrobust</td>    <th>                     </th>     <td> </td>    \n",
       "</tr>\n",
       "</table>\n",
       "<table class=\"simpletable\">\n",
       "<tr>\n",
       "            <td></td>              <th>coef</th>     <th>std err</th>      <th>t</th>      <th>P>|t|</th> <th>[95.0% Conf. Int.]</th> \n",
       "</tr>\n",
       "<tr>\n",
       "  <th>Intercept</th>            <td>    2.9413</td> <td>    0.032</td> <td>   92.048</td> <td> 0.000</td> <td>    2.879     3.004</td>\n",
       "</tr>\n",
       "<tr>\n",
       "  <th>C(race)[T.2]</th>         <td>    0.1913</td> <td>    0.016</td> <td>   12.255</td> <td> 0.000</td> <td>    0.161     0.222</td>\n",
       "</tr>\n",
       "<tr>\n",
       "  <th>C(race)[T.3]</th>         <td>    0.1540</td> <td>    0.025</td> <td>    6.065</td> <td> 0.000</td> <td>    0.104     0.204</td>\n",
       "</tr>\n",
       "<tr>\n",
       "  <th>babysex == 1[T.True]</th> <td>    0.1345</td> <td>    0.013</td> <td>   10.353</td> <td> 0.000</td> <td>    0.109     0.160</td>\n",
       "</tr>\n",
       "<tr>\n",
       "  <th>nbrnaliv > 1[T.True]</th> <td>   -0.7566</td> <td>    0.049</td> <td>  -15.338</td> <td> 0.000</td> <td>   -0.853    -0.660</td>\n",
       "</tr>\n",
       "<tr>\n",
       "  <th>paydu == 1[T.True]</th>   <td>    0.0541</td> <td>    0.015</td> <td>    3.537</td> <td> 0.000</td> <td>    0.024     0.084</td>\n",
       "</tr>\n",
       "<tr>\n",
       "  <th>agepreg</th>              <td>    0.0032</td> <td>    0.001</td> <td>    2.525</td> <td> 0.012</td> <td>    0.001     0.006</td>\n",
       "</tr>\n",
       "<tr>\n",
       "  <th>totincr</th>              <td>    0.0068</td> <td>    0.002</td> <td>    3.530</td> <td> 0.000</td> <td>    0.003     0.011</td>\n",
       "</tr>\n",
       "</table>\n",
       "<table class=\"simpletable\">\n",
       "<tr>\n",
       "  <th>Omnibus:</th>       <td>986.934</td> <th>  Durbin-Watson:     </th> <td>   1.633</td>\n",
       "</tr>\n",
       "<tr>\n",
       "  <th>Prob(Omnibus):</th> <td> 0.000</td>  <th>  Jarque-Bera (JB):  </th> <td>3348.110</td>\n",
       "</tr>\n",
       "<tr>\n",
       "  <th>Skew:</th>          <td>-0.544</td>  <th>  Prob(JB):          </th> <td>    0.00</td>\n",
       "</tr>\n",
       "<tr>\n",
       "  <th>Kurtosis:</th>      <td> 5.776</td>  <th>  Cond. No.          </th> <td>    205.</td>\n",
       "</tr>\n",
       "</table>"
      ],
      "text/plain": [
       "<class 'statsmodels.iolib.summary.Summary'>\n",
       "\"\"\"\n",
       "                            OLS Regression Results                            \n",
       "==============================================================================\n",
       "Dep. Variable:            totalwgt_kg   R-squared:                       0.067\n",
       "Model:                            OLS   Adj. R-squared:                  0.066\n",
       "Method:                 Least Squares   F-statistic:                     92.14\n",
       "Date:                Mon, 17 Apr 2017   Prob (F-statistic):          2.48e-130\n",
       "Time:                        20:57:15   Log-Likelihood:                -8461.5\n",
       "No. Observations:                9038   AIC:                         1.694e+04\n",
       "Df Residuals:                    9030   BIC:                         1.700e+04\n",
       "Df Model:                           7                                         \n",
       "Covariance Type:            nonrobust                                         \n",
       "========================================================================================\n",
       "                           coef    std err          t      P>|t|      [95.0% Conf. Int.]\n",
       "----------------------------------------------------------------------------------------\n",
       "Intercept                2.9413      0.032     92.048      0.000         2.879     3.004\n",
       "C(race)[T.2]             0.1913      0.016     12.255      0.000         0.161     0.222\n",
       "C(race)[T.3]             0.1540      0.025      6.065      0.000         0.104     0.204\n",
       "babysex == 1[T.True]     0.1345      0.013     10.353      0.000         0.109     0.160\n",
       "nbrnaliv > 1[T.True]    -0.7566      0.049    -15.338      0.000        -0.853    -0.660\n",
       "paydu == 1[T.True]       0.0541      0.015      3.537      0.000         0.024     0.084\n",
       "agepreg                  0.0032      0.001      2.525      0.012         0.001     0.006\n",
       "totincr                  0.0068      0.002      3.530      0.000         0.003     0.011\n",
       "==============================================================================\n",
       "Omnibus:                      986.934   Durbin-Watson:                   1.633\n",
       "Prob(Omnibus):                  0.000   Jarque-Bera (JB):             3348.110\n",
       "Skew:                          -0.544   Prob(JB):                         0.00\n",
       "Kurtosis:                       5.776   Cond. No.                         205.\n",
       "==============================================================================\n",
       "\n",
       "Warnings:\n",
       "[1] Standard Errors assume that the covariance matrix of the errors is correctly specified.\n",
       "\"\"\""
      ]
     },
     "execution_count": 5,
     "metadata": {},
     "output_type": "execute_result"
    }
   ],
   "source": [
    "formula = ('totalwgt_kg ~ agepreg + C(race) + babysex==1 + '\n",
    "               'nbrnaliv>1 + paydu==1 + totincr')\n",
    "results = smf.ols(formula, data=join).fit()\n",
    "results.summary()"
   ]
  },
  {
   "cell_type": "markdown",
   "metadata": {},
   "source": [
    "## Lasso regression"
   ]
  },
  {
   "cell_type": "code",
   "execution_count": 30,
   "metadata": {
    "collapsed": false
   },
   "outputs": [
    {
     "data": {
      "text/html": [
       "<table class=\"simpletable\">\n",
       "<caption>OLS Regression Results</caption>\n",
       "<tr>\n",
       "  <th>Dep. Variable:</th>       <td>totalwgt_kg</td>   <th>  R-squared:         </th> <td>   0.067</td> \n",
       "</tr>\n",
       "<tr>\n",
       "  <th>Model:</th>                   <td>OLS</td>       <th>  Adj. R-squared:    </th> <td>   0.066</td> \n",
       "</tr>\n",
       "<tr>\n",
       "  <th>Method:</th>             <td>Least Squares</td>  <th>  F-statistic:       </th> <td>   92.14</td> \n",
       "</tr>\n",
       "<tr>\n",
       "  <th>Date:</th>             <td>Mon, 17 Apr 2017</td> <th>  Prob (F-statistic):</th> <td>2.48e-130</td>\n",
       "</tr>\n",
       "<tr>\n",
       "  <th>Time:</th>                 <td>21:03:50</td>     <th>  Log-Likelihood:    </th> <td> -8461.5</td> \n",
       "</tr>\n",
       "<tr>\n",
       "  <th>No. Observations:</th>      <td>  9038</td>      <th>  AIC:               </th> <td>1.694e+04</td>\n",
       "</tr>\n",
       "<tr>\n",
       "  <th>Df Residuals:</th>          <td>  9030</td>      <th>  BIC:               </th> <td>1.700e+04</td>\n",
       "</tr>\n",
       "<tr>\n",
       "  <th>Df Model:</th>              <td>     7</td>      <th>                     </th>     <td> </td>    \n",
       "</tr>\n",
       "<tr>\n",
       "  <th>Covariance Type:</th>      <td>nonrobust</td>    <th>                     </th>     <td> </td>    \n",
       "</tr>\n",
       "</table>\n",
       "<table class=\"simpletable\">\n",
       "<tr>\n",
       "            <td></td>              <th>coef</th>     <th>std err</th>      <th>t</th>      <th>P>|t|</th> <th>[95.0% Conf. Int.]</th> \n",
       "</tr>\n",
       "<tr>\n",
       "  <th>Intercept</th>            <td>    2.9410</td> <td>    0.032</td> <td>   92.041</td> <td> 0.000</td> <td>    2.878     3.004</td>\n",
       "</tr>\n",
       "<tr>\n",
       "  <th>C(race)[T.2]</th>         <td>    0.1912</td> <td>    0.016</td> <td>   12.252</td> <td> 0.000</td> <td>    0.161     0.222</td>\n",
       "</tr>\n",
       "<tr>\n",
       "  <th>C(race)[T.3]</th>         <td>    0.1539</td> <td>    0.025</td> <td>    6.060</td> <td> 0.000</td> <td>    0.104     0.204</td>\n",
       "</tr>\n",
       "<tr>\n",
       "  <th>babysex == 1[T.True]</th> <td>    0.1345</td> <td>    0.013</td> <td>   10.352</td> <td> 0.000</td> <td>    0.109     0.160</td>\n",
       "</tr>\n",
       "<tr>\n",
       "  <th>nbrnaliv > 1[T.True]</th> <td>   -0.7561</td> <td>    0.049</td> <td>  -15.327</td> <td> 0.000</td> <td>   -0.853    -0.659</td>\n",
       "</tr>\n",
       "<tr>\n",
       "  <th>paydu == 1[T.True]</th>   <td>    0.0540</td> <td>    0.015</td> <td>    3.534</td> <td> 0.000</td> <td>    0.024     0.084</td>\n",
       "</tr>\n",
       "<tr>\n",
       "  <th>agepreg</th>              <td>    0.0032</td> <td>    0.001</td> <td>    2.532</td> <td> 0.011</td> <td>    0.001     0.006</td>\n",
       "</tr>\n",
       "<tr>\n",
       "  <th>totincr</th>              <td>    0.0069</td> <td>    0.002</td> <td>    3.533</td> <td> 0.000</td> <td>    0.003     0.011</td>\n",
       "</tr>\n",
       "</table>\n",
       "<table class=\"simpletable\">\n",
       "<tr>\n",
       "  <th>Omnibus:</th>       <td>987.007</td> <th>  Durbin-Watson:     </th> <td>   1.633</td>\n",
       "</tr>\n",
       "<tr>\n",
       "  <th>Prob(Omnibus):</th> <td> 0.000</td>  <th>  Jarque-Bera (JB):  </th> <td>3348.406</td>\n",
       "</tr>\n",
       "<tr>\n",
       "  <th>Skew:</th>          <td>-0.544</td>  <th>  Prob(JB):          </th> <td>    0.00</td>\n",
       "</tr>\n",
       "<tr>\n",
       "  <th>Kurtosis:</th>      <td> 5.777</td>  <th>  Cond. No.          </th> <td>    205.</td>\n",
       "</tr>\n",
       "</table>"
      ],
      "text/plain": [
       "<class 'statsmodels.iolib.summary.Summary'>\n",
       "\"\"\"\n",
       "                            OLS Regression Results                            \n",
       "==============================================================================\n",
       "Dep. Variable:            totalwgt_kg   R-squared:                       0.067\n",
       "Model:                            OLS   Adj. R-squared:                  0.066\n",
       "Method:                 Least Squares   F-statistic:                     92.14\n",
       "Date:                Mon, 17 Apr 2017   Prob (F-statistic):          2.48e-130\n",
       "Time:                        21:03:50   Log-Likelihood:                -8461.5\n",
       "No. Observations:                9038   AIC:                         1.694e+04\n",
       "Df Residuals:                    9030   BIC:                         1.700e+04\n",
       "Df Model:                           7                                         \n",
       "Covariance Type:            nonrobust                                         \n",
       "========================================================================================\n",
       "                           coef    std err          t      P>|t|      [95.0% Conf. Int.]\n",
       "----------------------------------------------------------------------------------------\n",
       "Intercept                2.9410      0.032     92.041      0.000         2.878     3.004\n",
       "C(race)[T.2]             0.1912      0.016     12.252      0.000         0.161     0.222\n",
       "C(race)[T.3]             0.1539      0.025      6.060      0.000         0.104     0.204\n",
       "babysex == 1[T.True]     0.1345      0.013     10.352      0.000         0.109     0.160\n",
       "nbrnaliv > 1[T.True]    -0.7561      0.049    -15.327      0.000        -0.853    -0.659\n",
       "paydu == 1[T.True]       0.0540      0.015      3.534      0.000         0.024     0.084\n",
       "agepreg                  0.0032      0.001      2.532      0.011         0.001     0.006\n",
       "totincr                  0.0069      0.002      3.533      0.000         0.003     0.011\n",
       "==============================================================================\n",
       "Omnibus:                      987.007   Durbin-Watson:                   1.633\n",
       "Prob(Omnibus):                  0.000   Jarque-Bera (JB):             3348.406\n",
       "Skew:                          -0.544   Prob(JB):                         0.00\n",
       "Kurtosis:                       5.777   Cond. No.                         205.\n",
       "==============================================================================\n",
       "\n",
       "Warnings:\n",
       "[1] Standard Errors assume that the covariance matrix of the errors is correctly specified.\n",
       "\"\"\""
      ]
     },
     "execution_count": 30,
     "metadata": {},
     "output_type": "execute_result"
    }
   ],
   "source": [
    "alpha=1e-5\n",
    "maxiter = 1000\n",
    "\n",
    "formula = ('totalwgt_kg ~ agepreg + C(race) + babysex==1 + '\n",
    "               'nbrnaliv>1 + paydu==1 + totincr')\n",
    "results = smf.ols(formula, data=join).fit_regularized(method='coord_descent',\n",
    "                                    maxiter=maxiter, alpha=alpha, L1_wt=1, start_params=None, cnvrg_tol=1e-08, zero_tol=1e-08)\n",
    "results.summary()"
   ]
  },
  {
   "cell_type": "markdown",
   "metadata": {},
   "source": [
    "## Ridge regression"
   ]
  },
  {
   "cell_type": "code",
   "execution_count": 145,
   "metadata": {
    "collapsed": false
   },
   "outputs": [
    {
     "data": {
      "text/html": [
       "<table class=\"simpletable\">\n",
       "<caption>OLS Regression Results</caption>\n",
       "<tr>\n",
       "  <th>Dep. Variable:</th>       <td>totalwgt_kg</td>   <th>  R-squared:         </th> <td>   0.067</td> \n",
       "</tr>\n",
       "<tr>\n",
       "  <th>Model:</th>                   <td>OLS</td>       <th>  Adj. R-squared:    </th> <td>   0.066</td> \n",
       "</tr>\n",
       "<tr>\n",
       "  <th>Method:</th>             <td>Least Squares</td>  <th>  F-statistic:       </th> <td>   91.99</td> \n",
       "</tr>\n",
       "<tr>\n",
       "  <th>Date:</th>             <td>Tue, 18 Apr 2017</td> <th>  Prob (F-statistic):</th> <td>4.03e-130</td>\n",
       "</tr>\n",
       "<tr>\n",
       "  <th>Time:</th>                 <td>20:21:24</td>     <th>  Log-Likelihood:    </th> <td> -8462.0</td> \n",
       "</tr>\n",
       "<tr>\n",
       "  <th>No. Observations:</th>      <td>  9038</td>      <th>  AIC:               </th> <td>1.694e+04</td>\n",
       "</tr>\n",
       "<tr>\n",
       "  <th>Df Residuals:</th>          <td>  9030</td>      <th>  BIC:               </th> <td>1.700e+04</td>\n",
       "</tr>\n",
       "<tr>\n",
       "  <th>Df Model:</th>              <td>     7</td>      <th>                     </th>     <td> </td>    \n",
       "</tr>\n",
       "<tr>\n",
       "  <th>Covariance Type:</th>      <td>nonrobust</td>    <th>                     </th>     <td> </td>    \n",
       "</tr>\n",
       "</table>\n",
       "<table class=\"simpletable\">\n",
       "<tr>\n",
       "            <td></td>              <th>coef</th>     <th>std err</th>      <th>t</th>      <th>P>|t|</th> <th>[95.0% Conf. Int.]</th> \n",
       "</tr>\n",
       "<tr>\n",
       "  <th>Intercept</th>            <td>    2.9676</td> <td>    0.032</td> <td>   92.869</td> <td> 0.000</td> <td>    2.905     3.030</td>\n",
       "</tr>\n",
       "<tr>\n",
       "  <th>C(race)[T.2]</th>         <td>    0.1938</td> <td>    0.016</td> <td>   12.414</td> <td> 0.000</td> <td>    0.163     0.224</td>\n",
       "</tr>\n",
       "<tr>\n",
       "  <th>C(race)[T.3]</th>         <td>    0.1557</td> <td>    0.025</td> <td>    6.130</td> <td> 0.000</td> <td>    0.106     0.205</td>\n",
       "</tr>\n",
       "<tr>\n",
       "  <th>babysex == 1[T.True]</th> <td>    0.1347</td> <td>    0.013</td> <td>   10.370</td> <td> 0.000</td> <td>    0.109     0.160</td>\n",
       "</tr>\n",
       "<tr>\n",
       "  <th>nbrnaliv > 1[T.True]</th> <td>   -0.7546</td> <td>    0.049</td> <td>  -15.296</td> <td> 0.000</td> <td>   -0.851    -0.658</td>\n",
       "</tr>\n",
       "<tr>\n",
       "  <th>paydu == 1[T.True]</th>   <td>    0.0610</td> <td>    0.015</td> <td>    3.994</td> <td> 0.000</td> <td>    0.031     0.091</td>\n",
       "</tr>\n",
       "<tr>\n",
       "  <th>agepreg</th>              <td>    0.0023</td> <td>    0.001</td> <td>    1.810</td> <td> 0.070</td> <td>   -0.000     0.005</td>\n",
       "</tr>\n",
       "<tr>\n",
       "  <th>totincr</th>              <td>    0.0059</td> <td>    0.002</td> <td>    3.045</td> <td> 0.002</td> <td>    0.002     0.010</td>\n",
       "</tr>\n",
       "</table>\n",
       "<table class=\"simpletable\">\n",
       "<tr>\n",
       "  <th>Omnibus:</th>       <td>983.694</td> <th>  Durbin-Watson:     </th> <td>   1.633</td>\n",
       "</tr>\n",
       "<tr>\n",
       "  <th>Prob(Omnibus):</th> <td> 0.000</td>  <th>  Jarque-Bera (JB):  </th> <td>3328.742</td>\n",
       "</tr>\n",
       "<tr>\n",
       "  <th>Skew:</th>          <td>-0.542</td>  <th>  Prob(JB):          </th> <td>    0.00</td>\n",
       "</tr>\n",
       "<tr>\n",
       "  <th>Kurtosis:</th>      <td> 5.768</td>  <th>  Cond. No.          </th> <td>    205.</td>\n",
       "</tr>\n",
       "</table>"
      ],
      "text/plain": [
       "<class 'statsmodels.iolib.summary.Summary'>\n",
       "\"\"\"\n",
       "                            OLS Regression Results                            \n",
       "==============================================================================\n",
       "Dep. Variable:            totalwgt_kg   R-squared:                       0.067\n",
       "Model:                            OLS   Adj. R-squared:                  0.066\n",
       "Method:                 Least Squares   F-statistic:                     91.99\n",
       "Date:                Tue, 18 Apr 2017   Prob (F-statistic):          4.03e-130\n",
       "Time:                        20:21:24   Log-Likelihood:                -8462.0\n",
       "No. Observations:                9038   AIC:                         1.694e+04\n",
       "Df Residuals:                    9030   BIC:                         1.700e+04\n",
       "Df Model:                           7                                         \n",
       "Covariance Type:            nonrobust                                         \n",
       "========================================================================================\n",
       "                           coef    std err          t      P>|t|      [95.0% Conf. Int.]\n",
       "----------------------------------------------------------------------------------------\n",
       "Intercept                2.9676      0.032     92.869      0.000         2.905     3.030\n",
       "C(race)[T.2]             0.1938      0.016     12.414      0.000         0.163     0.224\n",
       "C(race)[T.3]             0.1557      0.025      6.130      0.000         0.106     0.205\n",
       "babysex == 1[T.True]     0.1347      0.013     10.370      0.000         0.109     0.160\n",
       "nbrnaliv > 1[T.True]    -0.7546      0.049    -15.296      0.000        -0.851    -0.658\n",
       "paydu == 1[T.True]       0.0610      0.015      3.994      0.000         0.031     0.091\n",
       "agepreg                  0.0023      0.001      1.810      0.070        -0.000     0.005\n",
       "totincr                  0.0059      0.002      3.045      0.002         0.002     0.010\n",
       "==============================================================================\n",
       "Omnibus:                      983.694   Durbin-Watson:                   1.633\n",
       "Prob(Omnibus):                  0.000   Jarque-Bera (JB):             3328.742\n",
       "Skew:                          -0.542   Prob(JB):                         0.00\n",
       "Kurtosis:                       5.768   Cond. No.                         205.\n",
       "==============================================================================\n",
       "\n",
       "Warnings:\n",
       "[1] Standard Errors assume that the covariance matrix of the errors is correctly specified.\n",
       "\"\"\""
      ]
     },
     "execution_count": 145,
     "metadata": {},
     "output_type": "execute_result"
    }
   ],
   "source": [
    "maxiter = 50\n",
    "formula = ('totalwgt_kg ~ agepreg + C(race) + babysex==1 + '\n",
    "               'nbrnaliv>1 + paydu==1 + totincr')\n",
    "results = smf.ols(formula, data=join).fit_regularized(method='coord_descent',\n",
    "                                    maxiter=50, alpha=alpha, L1_wt=0.0, start_params=None, cnvrg_tol=1e-08, zero_tol=1e-08)\n",
    "results.summary()"
   ]
  },
  {
   "cell_type": "markdown",
   "metadata": {},
   "source": [
    "## Predikcija ishoda trudnoce\n",
    "### Data mining je pokazao da su sledece promenljive u najvecoj korelaciji sa ciljnom promenljivom (live_outcome)"
   ]
  },
  {
   "cell_type": "markdown",
   "metadata": {},
   "source": [
    "live_outcome 1.0\n",
    "prgoutcome 0.914591222169 OUTCOME OF PREGNANCY (BASED ON PRIORITY ORDERING)\n",
    "wksgest 0.905070710687 GESTATIONAL LENGTH OF COMPLETED PREGNANCY (IN WEEKS)\n",
    "prglngth 0.880806434446 DURATION OF COMPLETED PREGNANCY IN WEEKS\n",
    "pregend1 0.830564337362 BC-1 HOW PREGNANCY ENDED - 1ST MENTION\n",
    "mosgest 0.810607158364 GESTATIONAL LENGTH OF COMPLETED PREGNANCY (IN MONTHS)\n",
    "outcome 0.693749715953 PREGNANCY OUTCOME\n",
    "hasbabes 0.155517551919 WHETHER R HAS HAD ANY LIVE BIRTHS\n",
    "outcom01 0.124516416525 OUTCOME OF PREGNANCY - 1ST\n",
    "abortion 0.101526089822 CAPI-BASED TOTAL # OF INDUCED ABORTIONS\n",
    "lossnum 0.100735197069 CAPI-BASED TOTAL # OF SPONTANEOUS PREGNANCY LOSSES\n",
    "outcom02 0.0973697843344 OUTCOME OF PREGNANCY - 2ND\n",
    "lbpregs 0.0943802074912 CAPI-BASED TOTAL # OF PREGS ENDING IN LIVE BIRTH\n",
    "parity_r 0.0867318917207 TOTAL NUMBER OF LIVE BIRTHS\n",
    "parity 0.0867318917207 TOTAL NUMBER OF LIVE BIRTHS\n",
    "numkdhh 0.0671365376373 NUMBER OF BIO/ADOPT/RELATED/LEGAL CHILDREN UNDER AGE 18 IN HOUSEHOLD\n",
    "outcom03 0.0636627520923 OUTCOME OF PREGNANCY - 3RD\n",
    "numfmhh 0.0545241176437 NUMBER OF FAMILY MEMBERS IN HOUSEHOLD\n",
    "roscnt 0.0503930193068 NUMBER OF HOUSEHOLD MEMBERS BASED ON HH ROSTER\n",
    "rmarout6 0.0491851898917 INFORMAL MARITAL STATUS AT PREGNANCY OUTCOME - 6 CATEGORIES\n",
    "fmarout5 0.0430924904016 FORMAL MARITAL STATUS AT PREGNANCY OUTCOME\n",
    "rostscrn 0.0424096276513 # OF HOUSEHOLD MEMBERS BASED ON SCREENER\n",
    "cohpbeg 0.0384954877344 EG-18A WAS R LIVING W/FATHER OF PREG AT BEGINNING OF PREG\n",
    "pmarpreg 0.0366765435175 WHETHER PREGNANCY ENDED BEFORE R'S 1ST MARRIAGE (PREMARITALLY)\n",
    "oldwantr 0.0348289626024 WANTEDNESS OF PREGNANCY - RESPONDENT - CYCLE 4 VERSION\n",
    "wantresp 0.0348113648714 WANTEDNESS OF PREGNANCY - RESPONDENT - CYCLE 5 VERSION\n",
    "rmarout01 0.0335641248227 INFORMAL MARITAL STATUS WHEN PREGNANCY ENDED - 1ST\n",
    "cohpend 0.0328818523229 EG-18B WAS R LIVING W/FATHER OF PREG WHEN PREG ENDED/BABY WAS BORN\n",
    "oldwantp 0.0309287475439 WANTEDNESS OF PREG - R'S PARTNER (FATHER OF PREGNANCY) - CYCLE 4 VERSION\n",
    "wantpart 0.0299433286285 WANTEDNESS OF PREG - R'S PARTNER (FATHER OF PREGNANCY) - CYCLE 5 VERSION"
   ]
  },
  {
   "cell_type": "markdown",
   "metadata": {},
   "source": [
    "The method determines which solver from scipy.optimize is used, and it can be chosen from among the following strings:\n",
    "‘newton’ for Newton-Raphson, ‘nm’ for Nelder-Mead\n",
    "‘bfgs’ for Broyden-Fletcher-Goldfarb-Shanno (BFGS)\n",
    "‘lbfgs’ for limited-memory BFGS with optional box constraints\n",
    "‘powell’ for modified Powell’s method\n",
    "‘cg’ for conjugate gradient\n",
    "‘ncg’ for Newton-conjugate gradient\n",
    "‘basinhopping’ for global basin-hopping solver\n",
    "The explicit arguments in fit are passed to the solver, with the exception of the basin-hopping solver. Each solver has several optional arguments that are not the same across solvers. See the notes section below (or scipy.optimize) for the available arguments and for the list of explicit arguments that the basin-hopping solver supports."
   ]
  },
  {
   "cell_type": "code",
   "execution_count": 150,
   "metadata": {
    "collapsed": true
   },
   "outputs": [],
   "source": [
    "training_join = training_set.join(resp, on='caseid', rsuffix='_r')\n",
    "test_join = test_set.join(resp, on='caseid', rsuffix = 'r')"
   ]
  },
  {
   "cell_type": "code",
   "execution_count": 187,
   "metadata": {
    "collapsed": false,
    "scrolled": false
   },
   "outputs": [
    {
     "data": {
      "text/html": [
       "<table class=\"simpletable\">\n",
       "<caption>Logit Regression Results</caption>\n",
       "<tr>\n",
       "  <th>Dep. Variable:</th>   <td>live_outcome</td>   <th>  No. Observations:  </th>  <td>  7105</td> \n",
       "</tr>\n",
       "<tr>\n",
       "  <th>Model:</th>               <td>Logit</td>      <th>  Df Residuals:      </th>  <td>  7093</td> \n",
       "</tr>\n",
       "<tr>\n",
       "  <th>Method:</th>               <td>MLE</td>       <th>  Df Model:          </th>  <td>    11</td> \n",
       "</tr>\n",
       "<tr>\n",
       "  <th>Date:</th>          <td>Tue, 18 Apr 2017</td> <th>  Pseudo R-squ.:     </th>  <td>0.3512</td> \n",
       "</tr>\n",
       "<tr>\n",
       "  <th>Time:</th>              <td>21:39:29</td>     <th>  Log-Likelihood:    </th> <td> -3026.6</td>\n",
       "</tr>\n",
       "<tr>\n",
       "  <th>converged:</th>           <td>True</td>       <th>  LL-Null:           </th> <td> -4664.6</td>\n",
       "</tr>\n",
       "<tr>\n",
       "  <th> </th>                      <td> </td>        <th>  LLR p-value:       </th>  <td> 0.000</td> \n",
       "</tr>\n",
       "</table>\n",
       "<table class=\"simpletable\">\n",
       "<tr>\n",
       "      <td></td>         <th>coef</th>     <th>std err</th>      <th>z</th>      <th>P>|z|</th> <th>[95.0% Conf. Int.]</th> \n",
       "</tr>\n",
       "<tr>\n",
       "  <th>Intercept</th> <td>    4.3001</td> <td>    0.423</td> <td>   10.160</td> <td> 0.000</td> <td>    3.471     5.130</td>\n",
       "</tr>\n",
       "<tr>\n",
       "  <th>lossnum</th>   <td>   -0.8001</td> <td>    0.033</td> <td>  -24.387</td> <td> 0.000</td> <td>   -0.864    -0.736</td>\n",
       "</tr>\n",
       "<tr>\n",
       "  <th>abortion</th>  <td>   -0.7142</td> <td>    0.031</td> <td>  -22.804</td> <td> 0.000</td> <td>   -0.776    -0.653</td>\n",
       "</tr>\n",
       "<tr>\n",
       "  <th>hasbabes</th>  <td>   -1.2570</td> <td>    0.160</td> <td>   -7.872</td> <td> 0.000</td> <td>   -1.570    -0.944</td>\n",
       "</tr>\n",
       "<tr>\n",
       "  <th>parity</th>    <td>    0.4488</td> <td>    0.034</td> <td>   13.368</td> <td> 0.000</td> <td>    0.383     0.515</td>\n",
       "</tr>\n",
       "<tr>\n",
       "  <th>roscnt</th>    <td>   -0.0161</td> <td>    0.035</td> <td>   -0.461</td> <td> 0.645</td> <td>   -0.085     0.052</td>\n",
       "</tr>\n",
       "<tr>\n",
       "  <th>numkdhh</th>   <td>   -0.0373</td> <td>    0.047</td> <td>   -0.797</td> <td> 0.425</td> <td>   -0.129     0.054</td>\n",
       "</tr>\n",
       "<tr>\n",
       "  <th>oldwantr</th>  <td>   -0.2537</td> <td>    0.028</td> <td>   -9.001</td> <td> 0.000</td> <td>   -0.309    -0.198</td>\n",
       "</tr>\n",
       "<tr>\n",
       "  <th>cohpend</th>   <td>   -0.0575</td> <td>    0.017</td> <td>   -3.450</td> <td> 0.001</td> <td>   -0.090    -0.025</td>\n",
       "</tr>\n",
       "<tr>\n",
       "  <th>pmarpreg</th>  <td>   -0.2181</td> <td>    0.160</td> <td>   -1.361</td> <td> 0.174</td> <td>   -0.532     0.096</td>\n",
       "</tr>\n",
       "<tr>\n",
       "  <th>wantpart</th>  <td>   -0.0870</td> <td>    0.024</td> <td>   -3.693</td> <td> 0.000</td> <td>   -0.133    -0.041</td>\n",
       "</tr>\n",
       "<tr>\n",
       "  <th>rmarout6</th>  <td>   -0.1073</td> <td>    0.038</td> <td>   -2.828</td> <td> 0.005</td> <td>   -0.182    -0.033</td>\n",
       "</tr>\n",
       "</table>"
      ],
      "text/plain": [
       "<class 'statsmodels.iolib.summary.Summary'>\n",
       "\"\"\"\n",
       "                           Logit Regression Results                           \n",
       "==============================================================================\n",
       "Dep. Variable:           live_outcome   No. Observations:                 7105\n",
       "Model:                          Logit   Df Residuals:                     7093\n",
       "Method:                           MLE   Df Model:                           11\n",
       "Date:                Tue, 18 Apr 2017   Pseudo R-squ.:                  0.3512\n",
       "Time:                        21:39:29   Log-Likelihood:                -3026.6\n",
       "converged:                       True   LL-Null:                       -4664.6\n",
       "                                        LLR p-value:                     0.000\n",
       "==============================================================================\n",
       "                 coef    std err          z      P>|z|      [95.0% Conf. Int.]\n",
       "------------------------------------------------------------------------------\n",
       "Intercept      4.3001      0.423     10.160      0.000         3.471     5.130\n",
       "lossnum       -0.8001      0.033    -24.387      0.000        -0.864    -0.736\n",
       "abortion      -0.7142      0.031    -22.804      0.000        -0.776    -0.653\n",
       "hasbabes      -1.2570      0.160     -7.872      0.000        -1.570    -0.944\n",
       "parity         0.4488      0.034     13.368      0.000         0.383     0.515\n",
       "roscnt        -0.0161      0.035     -0.461      0.645        -0.085     0.052\n",
       "numkdhh       -0.0373      0.047     -0.797      0.425        -0.129     0.054\n",
       "oldwantr      -0.2537      0.028     -9.001      0.000        -0.309    -0.198\n",
       "cohpend       -0.0575      0.017     -3.450      0.001        -0.090    -0.025\n",
       "pmarpreg      -0.2181      0.160     -1.361      0.174        -0.532     0.096\n",
       "wantpart      -0.0870      0.024     -3.693      0.000        -0.133    -0.041\n",
       "rmarout6      -0.1073      0.038     -2.828      0.005        -0.182    -0.033\n",
       "==============================================================================\n",
       "\"\"\""
      ]
     },
     "execution_count": 187,
     "metadata": {},
     "output_type": "execute_result"
    }
   ],
   "source": [
    "formula_outcome = 'live_outcome ~ lossnum + abortion + hasbabes + parity + roscnt + numkdhh + oldwantr + cohpend + pmarpreg + wantpart + rmarout6'\n",
    "#formula_outcome = 'live_outcome ~ wksgest'\n",
    "model = smf.logit(formula_outcome, training_join)\n",
    "#results = model.fit()\n",
    "#results = model.fit(method = 'bfgs', maxiter=200)\n",
    "results = model.fit_regularized(alpha =5, disp=False)\n",
    "results.summary()"
   ]
  },
  {
   "cell_type": "code",
   "execution_count": 192,
   "metadata": {
    "collapsed": false
   },
   "outputs": [
    {
     "name": "stdout",
     "output_type": "stream",
     "text": [
      "baseline:  0.6344827586206897\n",
      "sum(true_pos):  4221.0 sum(true_neg): 1296.0\n",
      "acc: 0.776495425757\n"
     ]
    }
   ],
   "source": [
    "endog = pd.DataFrame(model.endog, columns=[model.endog_names])\n",
    "exog = pd.DataFrame(model.exog, columns=model.exog_names)\n",
    "\n",
    "actual = endog['live_outcome']\n",
    "baseline = actual.mean()\n",
    "print('baseline: ', str(baseline))\n",
    "\n",
    "predict = (results.predict() >= 0.5)\n",
    "true_pos = predict * actual\n",
    "true_neg = (1 - predict) * (1 - actual)\n",
    "print('sum(true_pos): ',str(sum(true_pos)), 'sum(true_neg):', str(sum(true_neg)))\n",
    "\n",
    "acc = (sum(true_pos) + sum(true_neg)) / len(actual)\n",
    "print('acc:', str(acc))"
   ]
  },
  {
   "cell_type": "code",
   "execution_count": 99,
   "metadata": {
    "collapsed": false
   },
   "outputs": [
    {
     "name": "stdout",
     "output_type": "stream",
     "text": [
      "True     2075\n",
      "False     629\n",
      "Name: 0, dtype: int64\n",
      "2704\n"
     ]
    },
    {
     "data": {
      "text/plain": [
       "True     1818\n",
       "False     900\n",
       "Name: outcome, dtype: int64"
      ]
     },
     "execution_count": 99,
     "metadata": {},
     "output_type": "execute_result"
    }
   ],
   "source": [
    "predict = (results.predict(test_join) >= 0.5)\n",
    "predict_df = pd.DataFrame(predict, index = predict[:])\n",
    "\n",
    "print(predict_df[0].value_counts())\n",
    "\n",
    "actual = test_join['outcome'] == 1\n",
    "print(actual.value_counts())\n",
    "#true_pos = predict * actual\n",
    "#true_neg = (1 - predict) * (1 - actual)\n",
    "#sum(true_pos), sum(true_neg)"
   ]
  },
  {
   "cell_type": "code",
   "execution_count": 80,
   "metadata": {
    "collapsed": false
   },
   "outputs": [
    {
     "data": {
      "text/plain": [
       "1.3200000000000001"
      ]
     },
     "execution_count": 80,
     "metadata": {},
     "output_type": "execute_result"
    }
   ],
   "source": [
    "acc = (sum(true_pos) + sum(true_neg)) / len(actual)\n",
    "acc"
   ]
  },
  {
   "cell_type": "markdown",
   "metadata": {},
   "source": [
    "## Ishod trudnoce Ridge"
   ]
  },
  {
   "cell_type": "code",
   "execution_count": 204,
   "metadata": {
    "collapsed": false
   },
   "outputs": [
    {
     "data": {
      "text/html": [
       "<table class=\"simpletable\">\n",
       "<caption>OLS Regression Results</caption>\n",
       "<tr>\n",
       "  <th>Dep. Variable:</th>      <td>live_outcome</td>   <th>  R-squared:         </th> <td>   0.363</td>\n",
       "</tr>\n",
       "<tr>\n",
       "  <th>Model:</th>                   <td>OLS</td>       <th>  Adj. R-squared:    </th> <td>   0.362</td>\n",
       "</tr>\n",
       "<tr>\n",
       "  <th>Method:</th>             <td>Least Squares</td>  <th>  F-statistic:       </th> <td>   367.8</td>\n",
       "</tr>\n",
       "<tr>\n",
       "  <th>Date:</th>             <td>Tue, 18 Apr 2017</td> <th>  Prob (F-statistic):</th>  <td>  0.00</td> \n",
       "</tr>\n",
       "<tr>\n",
       "  <th>Time:</th>                 <td>21:41:26</td>     <th>  Log-Likelihood:    </th> <td> -3286.7</td>\n",
       "</tr>\n",
       "<tr>\n",
       "  <th>No. Observations:</th>      <td>  7105</td>      <th>  AIC:               </th> <td>   6597.</td>\n",
       "</tr>\n",
       "<tr>\n",
       "  <th>Df Residuals:</th>          <td>  7093</td>      <th>  BIC:               </th> <td>   6680.</td>\n",
       "</tr>\n",
       "<tr>\n",
       "  <th>Df Model:</th>              <td>    11</td>      <th>                     </th>     <td> </td>   \n",
       "</tr>\n",
       "<tr>\n",
       "  <th>Covariance Type:</th>      <td>nonrobust</td>    <th>                     </th>     <td> </td>   \n",
       "</tr>\n",
       "</table>\n",
       "<table class=\"simpletable\">\n",
       "<tr>\n",
       "      <td></td>         <th>coef</th>     <th>std err</th>      <th>t</th>      <th>P>|t|</th> <th>[95.0% Conf. Int.]</th> \n",
       "</tr>\n",
       "<tr>\n",
       "  <th>Intercept</th> <td>    1.2617</td> <td>    0.056</td> <td>   22.427</td> <td> 0.000</td> <td>    1.151     1.372</td>\n",
       "</tr>\n",
       "<tr>\n",
       "  <th>lossnum</th>   <td>   -0.1022</td> <td>    0.003</td> <td>  -29.993</td> <td> 0.000</td> <td>   -0.109    -0.096</td>\n",
       "</tr>\n",
       "<tr>\n",
       "  <th>abortion</th>  <td>   -0.1017</td> <td>    0.004</td> <td>  -26.935</td> <td> 0.000</td> <td>   -0.109    -0.094</td>\n",
       "</tr>\n",
       "<tr>\n",
       "  <th>hasbabes</th>  <td>   -0.1084</td> <td>    0.005</td> <td>  -22.692</td> <td> 0.000</td> <td>   -0.118    -0.099</td>\n",
       "</tr>\n",
       "<tr>\n",
       "  <th>parity</th>    <td>    0.0488</td> <td>    0.004</td> <td>   13.650</td> <td> 0.000</td> <td>    0.042     0.056</td>\n",
       "</tr>\n",
       "<tr>\n",
       "  <th>roscnt</th>    <td>   -0.0099</td> <td>    0.005</td> <td>   -2.007</td> <td> 0.045</td> <td>   -0.020    -0.000</td>\n",
       "</tr>\n",
       "<tr>\n",
       "  <th>numkdhh</th>   <td>    0.0101</td> <td>    0.006</td> <td>    1.586</td> <td> 0.113</td> <td>   -0.002     0.023</td>\n",
       "</tr>\n",
       "<tr>\n",
       "  <th>oldwantr</th>  <td>   -0.0381</td> <td>    0.004</td> <td>   -9.259</td> <td> 0.000</td> <td>   -0.046    -0.030</td>\n",
       "</tr>\n",
       "<tr>\n",
       "  <th>cohpend</th>   <td>   -0.0110</td> <td>    0.002</td> <td>   -4.502</td> <td> 0.000</td> <td>   -0.016    -0.006</td>\n",
       "</tr>\n",
       "<tr>\n",
       "  <th>pmarpreg</th>  <td>   -0.0781</td> <td>    0.023</td> <td>   -3.356</td> <td> 0.001</td> <td>   -0.124    -0.032</td>\n",
       "</tr>\n",
       "<tr>\n",
       "  <th>wantpart</th>  <td>   -0.0139</td> <td>    0.003</td> <td>   -4.001</td> <td> 0.000</td> <td>   -0.021    -0.007</td>\n",
       "</tr>\n",
       "<tr>\n",
       "  <th>rmarout6</th>  <td>   -0.0288</td> <td>    0.005</td> <td>   -5.267</td> <td> 0.000</td> <td>   -0.040    -0.018</td>\n",
       "</tr>\n",
       "</table>\n",
       "<table class=\"simpletable\">\n",
       "<tr>\n",
       "  <th>Omnibus:</th>       <td>377.698</td> <th>  Durbin-Watson:     </th> <td>   2.176</td>\n",
       "</tr>\n",
       "<tr>\n",
       "  <th>Prob(Omnibus):</th> <td> 0.000</td>  <th>  Jarque-Bera (JB):  </th> <td> 383.723</td>\n",
       "</tr>\n",
       "<tr>\n",
       "  <th>Skew:</th>          <td>-0.530</td>  <th>  Prob(JB):          </th> <td>4.74e-84</td>\n",
       "</tr>\n",
       "<tr>\n",
       "  <th>Kurtosis:</th>      <td> 2.584</td>  <th>  Cond. No.          </th> <td>    120.</td>\n",
       "</tr>\n",
       "</table>"
      ],
      "text/plain": [
       "<class 'statsmodels.iolib.summary.Summary'>\n",
       "\"\"\"\n",
       "                            OLS Regression Results                            \n",
       "==============================================================================\n",
       "Dep. Variable:           live_outcome   R-squared:                       0.363\n",
       "Model:                            OLS   Adj. R-squared:                  0.362\n",
       "Method:                 Least Squares   F-statistic:                     367.8\n",
       "Date:                Tue, 18 Apr 2017   Prob (F-statistic):               0.00\n",
       "Time:                        21:41:26   Log-Likelihood:                -3286.7\n",
       "No. Observations:                7105   AIC:                             6597.\n",
       "Df Residuals:                    7093   BIC:                             6680.\n",
       "Df Model:                          11                                         \n",
       "Covariance Type:            nonrobust                                         \n",
       "==============================================================================\n",
       "                 coef    std err          t      P>|t|      [95.0% Conf. Int.]\n",
       "------------------------------------------------------------------------------\n",
       "Intercept      1.2617      0.056     22.427      0.000         1.151     1.372\n",
       "lossnum       -0.1022      0.003    -29.993      0.000        -0.109    -0.096\n",
       "abortion      -0.1017      0.004    -26.935      0.000        -0.109    -0.094\n",
       "hasbabes      -0.1084      0.005    -22.692      0.000        -0.118    -0.099\n",
       "parity         0.0488      0.004     13.650      0.000         0.042     0.056\n",
       "roscnt        -0.0099      0.005     -2.007      0.045        -0.020    -0.000\n",
       "numkdhh        0.0101      0.006      1.586      0.113        -0.002     0.023\n",
       "oldwantr      -0.0381      0.004     -9.259      0.000        -0.046    -0.030\n",
       "cohpend       -0.0110      0.002     -4.502      0.000        -0.016    -0.006\n",
       "pmarpreg      -0.0781      0.023     -3.356      0.001        -0.124    -0.032\n",
       "wantpart      -0.0139      0.003     -4.001      0.000        -0.021    -0.007\n",
       "rmarout6      -0.0288      0.005     -5.267      0.000        -0.040    -0.018\n",
       "==============================================================================\n",
       "Omnibus:                      377.698   Durbin-Watson:                   2.176\n",
       "Prob(Omnibus):                  0.000   Jarque-Bera (JB):              383.723\n",
       "Skew:                          -0.530   Prob(JB):                     4.74e-84\n",
       "Kurtosis:                       2.584   Cond. No.                         120.\n",
       "==============================================================================\n",
       "\n",
       "Warnings:\n",
       "[1] Standard Errors assume that the covariance matrix of the errors is correctly specified.\n",
       "\"\"\""
      ]
     },
     "execution_count": 204,
     "metadata": {},
     "output_type": "execute_result"
    }
   ],
   "source": [
    "results = smf.ols(formula_outcome, data=training_join).fit_regularized(method='coord_descent',\n",
    "                                    maxiter=500, alpha=0.00000001, L1_wt=0.0, start_params=None, cnvrg_tol=1e-08, zero_tol=1e-08)\n",
    "results.summary()"
   ]
  },
  {
   "cell_type": "code",
   "execution_count": 203,
   "metadata": {
    "collapsed": false
   },
   "outputs": [
    {
     "name": "stdout",
     "output_type": "stream",
     "text": [
      "baseline:  0.6344827586206897\n",
      "sum(true_pos):  4225.0 sum(true_neg): 1295.0\n",
      "acc: 0.776917663617\n"
     ]
    }
   ],
   "source": [
    "endog = pd.DataFrame(model.endog, columns=[model.endog_names])\n",
    "exog = pd.DataFrame(model.exog, columns=model.exog_names)\n",
    "\n",
    "actual = endog['live_outcome']\n",
    "baseline = actual.mean()\n",
    "print('baseline: ', str(baseline))\n",
    "\n",
    "predict = (results.predict() >= 0.5)\n",
    "true_pos = predict * actual\n",
    "true_neg = (1 - predict) * (1 - actual)\n",
    "print('sum(true_pos): ',str(sum(true_pos)), 'sum(true_neg):', str(sum(true_neg)))\n",
    "\n",
    "acc = (sum(true_pos) + sum(true_neg)) / len(actual)\n",
    "print('acc:', str(acc))"
   ]
  },
  {
   "cell_type": "markdown",
   "metadata": {},
   "source": [
    "## Ishod trudnoce Lasso"
   ]
  },
  {
   "cell_type": "code",
   "execution_count": 119,
   "metadata": {
    "collapsed": false
   },
   "outputs": [
    {
     "data": {
      "text/html": [
       "<table class=\"simpletable\">\n",
       "<caption>OLS Regression Results</caption>\n",
       "<tr>\n",
       "  <th>Dep. Variable:</th>      <td>live_outcome</td>   <th>  R-squared:         </th> <td>   0.320</td> \n",
       "</tr>\n",
       "<tr>\n",
       "  <th>Model:</th>                   <td>OLS</td>       <th>  Adj. R-squared:    </th> <td>   0.319</td> \n",
       "</tr>\n",
       "<tr>\n",
       "  <th>Method:</th>             <td>Least Squares</td>  <th>  F-statistic:       </th> <td>   844.6</td> \n",
       "</tr>\n",
       "<tr>\n",
       "  <th>Date:</th>             <td>Tue, 18 Apr 2017</td> <th>  Prob (F-statistic):</th>  <td>  0.00</td>  \n",
       "</tr>\n",
       "<tr>\n",
       "  <th>Time:</th>                 <td>00:27:16</td>     <th>  Log-Likelihood:    </th> <td> -5022.6</td> \n",
       "</tr>\n",
       "<tr>\n",
       "  <th>No. Observations:</th>      <td> 10800</td>      <th>  AIC:               </th> <td>1.006e+04</td>\n",
       "</tr>\n",
       "<tr>\n",
       "  <th>Df Residuals:</th>          <td> 10793</td>      <th>  BIC:               </th> <td>1.011e+04</td>\n",
       "</tr>\n",
       "<tr>\n",
       "  <th>Df Model:</th>              <td>     6</td>      <th>                     </th>     <td> </td>    \n",
       "</tr>\n",
       "<tr>\n",
       "  <th>Covariance Type:</th>      <td>nonrobust</td>    <th>                     </th>     <td> </td>    \n",
       "</tr>\n",
       "</table>\n",
       "<table class=\"simpletable\">\n",
       "<tr>\n",
       "      <td></td>         <th>coef</th>     <th>std err</th>      <th>t</th>      <th>P>|t|</th> <th>[95.0% Conf. Int.]</th> \n",
       "</tr>\n",
       "<tr>\n",
       "  <th>Intercept</th> <td>    0.7780</td> <td>    0.015</td> <td>   53.591</td> <td> 0.000</td> <td>    0.750     0.806</td>\n",
       "</tr>\n",
       "<tr>\n",
       "  <th>lossnum</th>   <td>   -0.1066</td> <td>    0.003</td> <td>  -35.835</td> <td> 0.000</td> <td>   -0.112    -0.101</td>\n",
       "</tr>\n",
       "<tr>\n",
       "  <th>abortion</th>  <td>   -0.1096</td> <td>    0.003</td> <td>  -32.911</td> <td> 0.000</td> <td>   -0.116    -0.103</td>\n",
       "</tr>\n",
       "<tr>\n",
       "  <th>hasbabes</th>  <td>   -0.1029</td> <td>    0.004</td> <td>  -23.968</td> <td> 0.000</td> <td>   -0.111    -0.095</td>\n",
       "</tr>\n",
       "<tr>\n",
       "  <th>parity</th>    <td>    0.0495</td> <td>    0.003</td> <td>   15.620</td> <td> 0.000</td> <td>    0.043     0.056</td>\n",
       "</tr>\n",
       "<tr>\n",
       "  <th>roscnt</th>    <td>    0.0093</td> <td>    0.004</td> <td>    2.116</td> <td> 0.034</td> <td>    0.001     0.018</td>\n",
       "</tr>\n",
       "<tr>\n",
       "  <th>numkdhh</th>   <td>    0.0047</td> <td>    0.006</td> <td>    0.838</td> <td> 0.402</td> <td>   -0.006     0.016</td>\n",
       "</tr>\n",
       "</table>\n",
       "<table class=\"simpletable\">\n",
       "<tr>\n",
       "  <th>Omnibus:</th>       <td>831.853</td> <th>  Durbin-Watson:     </th> <td>   2.238</td> \n",
       "</tr>\n",
       "<tr>\n",
       "  <th>Prob(Omnibus):</th> <td> 0.000</td>  <th>  Jarque-Bera (JB):  </th> <td> 989.449</td> \n",
       "</tr>\n",
       "<tr>\n",
       "  <th>Skew:</th>          <td>-0.724</td>  <th>  Prob(JB):          </th> <td>1.39e-215</td>\n",
       "</tr>\n",
       "<tr>\n",
       "  <th>Kurtosis:</th>      <td> 2.683</td>  <th>  Cond. No.          </th> <td>    23.0</td> \n",
       "</tr>\n",
       "</table>"
      ],
      "text/plain": [
       "<class 'statsmodels.iolib.summary.Summary'>\n",
       "\"\"\"\n",
       "                            OLS Regression Results                            \n",
       "==============================================================================\n",
       "Dep. Variable:           live_outcome   R-squared:                       0.320\n",
       "Model:                            OLS   Adj. R-squared:                  0.319\n",
       "Method:                 Least Squares   F-statistic:                     844.6\n",
       "Date:                Tue, 18 Apr 2017   Prob (F-statistic):               0.00\n",
       "Time:                        00:27:16   Log-Likelihood:                -5022.6\n",
       "No. Observations:               10800   AIC:                         1.006e+04\n",
       "Df Residuals:                   10793   BIC:                         1.011e+04\n",
       "Df Model:                           6                                         \n",
       "Covariance Type:            nonrobust                                         \n",
       "==============================================================================\n",
       "                 coef    std err          t      P>|t|      [95.0% Conf. Int.]\n",
       "------------------------------------------------------------------------------\n",
       "Intercept      0.7780      0.015     53.591      0.000         0.750     0.806\n",
       "lossnum       -0.1066      0.003    -35.835      0.000        -0.112    -0.101\n",
       "abortion      -0.1096      0.003    -32.911      0.000        -0.116    -0.103\n",
       "hasbabes      -0.1029      0.004    -23.968      0.000        -0.111    -0.095\n",
       "parity         0.0495      0.003     15.620      0.000         0.043     0.056\n",
       "roscnt         0.0093      0.004      2.116      0.034         0.001     0.018\n",
       "numkdhh        0.0047      0.006      0.838      0.402        -0.006     0.016\n",
       "==============================================================================\n",
       "Omnibus:                      831.853   Durbin-Watson:                   2.238\n",
       "Prob(Omnibus):                  0.000   Jarque-Bera (JB):              989.449\n",
       "Skew:                          -0.724   Prob(JB):                    1.39e-215\n",
       "Kurtosis:                       2.683   Cond. No.                         23.0\n",
       "==============================================================================\n",
       "\n",
       "Warnings:\n",
       "[1] Standard Errors assume that the covariance matrix of the errors is correctly specified.\n",
       "\"\"\""
      ]
     },
     "execution_count": 119,
     "metadata": {},
     "output_type": "execute_result"
    }
   ],
   "source": [
    "results = smf.ols(formula_outcome, data=training_join).fit_regularized(method='coord_descent',\n",
    "                                    maxiter=1000, alpha=0.005, L1_wt=1.0, start_params=None, cnvrg_tol=1e-08, zero_tol=1e-08)\n",
    "results.summary()"
   ]
  },
  {
   "cell_type": "code",
   "execution_count": 115,
   "metadata": {
    "collapsed": false
   },
   "outputs": [
    {
     "name": "stdout",
     "output_type": "stream",
     "text": [
      "baseline:  0.6786111111111112\n",
      "sum(true_pos):  7008.0 sum(true_neg): 1377.0\n",
      "acc: 0.776388888889\n"
     ]
    }
   ],
   "source": [
    "endog = pd.DataFrame(model.endog, columns=[model.endog_names])\n",
    "exog = pd.DataFrame(model.exog, columns=model.exog_names)\n",
    "\n",
    "actual = endog['live_outcome']\n",
    "baseline = actual.mean()\n",
    "print('baseline: ', str(baseline))\n",
    "\n",
    "predict = (results.predict() >= 0.5)\n",
    "true_pos = predict * actual\n",
    "true_neg = (1 - predict) * (1 - actual)\n",
    "print('sum(true_pos): ',str(sum(true_pos)), 'sum(true_neg):', str(sum(true_neg)))\n",
    "\n",
    "acc = (sum(true_pos) + sum(true_neg)) / len(actual)\n",
    "print('acc:', str(acc))"
   ]
  },
  {
   "cell_type": "code",
   "execution_count": null,
   "metadata": {
    "collapsed": true
   },
   "outputs": [],
   "source": []
  }
 ],
 "metadata": {
  "kernelspec": {
   "display_name": "Python 3",
   "language": "python",
   "name": "python3"
  },
  "language_info": {
   "codemirror_mode": {
    "name": "ipython",
    "version": 3
   },
   "file_extension": ".py",
   "mimetype": "text/x-python",
   "name": "python",
   "nbconvert_exporter": "python",
   "pygments_lexer": "ipython3",
   "version": "3.6.0"
  }
 },
 "nbformat": 4,
 "nbformat_minor": 2
}
