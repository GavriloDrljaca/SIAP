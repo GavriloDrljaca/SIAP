{
 "cells": [
  {
   "cell_type": "markdown",
   "metadata": {},
   "source": [
    "Import libraries"
   ]
  },
  {
   "cell_type": "code",
   "execution_count": 1,
   "metadata": {
    "collapsed": false
   },
   "outputs": [],
   "source": [
    "from __future__ import print_function, division\n",
    "\n",
    "%matplotlib inline\n",
    "\n",
    "import numpy as np\n",
    "import pandas as pd\n",
    "\n",
    "import random\n",
    "import thinkplot\n",
    "import readData\n",
    "import statFunctions\n",
    "import Regression as reg"
   ]
  },
  {
   "cell_type": "code",
   "execution_count": 2,
   "metadata": {
    "collapsed": false
   },
   "outputs": [
    {
     "name": "stdout",
     "output_type": "stream",
     "text": [
      "10874\n",
      "2718\n"
     ]
    }
   ],
   "source": [
    "df = readData.ReadFemPreg()\n",
    "df.agepreg.replace([np.nan],  df.agepreg.mean(), inplace = True)\n",
    "df.babysex.replace([np.nan], 0, inplace = True)\n",
    "df.totalwgt_kg.replace([np.nan], df.totalwgt_kg.mean(), inplace = True)\n",
    "\n",
    "training_set = readData.GetTrainingData(df)\n",
    "print(len(training_set))\n",
    "\n",
    "test_set = readData.GetTestData(df)\n",
    "print(len(test_set))"
   ]
  },
  {
   "cell_type": "code",
   "execution_count": 3,
   "metadata": {
    "collapsed": false
   },
   "outputs": [],
   "source": [
    "#print(np.isnan(test_set['agepreg']).any())\n",
    "#print(np.isnan(test_set['babysex']).any())\n",
    "#print(np.all(np.isnan(test_set['totalwgt_kg'])))\n",
    "df.agepreg.replace([np.nan], 0, inplace = True)"
   ]
  },
  {
   "cell_type": "code",
   "execution_count": 4,
   "metadata": {
    "collapsed": false
   },
   "outputs": [
    {
     "data": {
      "text/plain": [
       "[689.73014702007913,\n",
       " 3.215312916870003,\n",
       " 0.0046661881833446493,\n",
       " -0.026470263187503403]"
      ]
     },
     "execution_count": 4,
     "metadata": {},
     "output_type": "execute_result"
    }
   ],
   "source": [
    "predictors = ['agepreg', 'babysex']\n",
    "target_var = 'totalwgt_kg'\n",
    "coef_matrix_ridge = reg.RidgeRegression(test_set, predictors,target_var,1e-15)\n",
    "coef_matrix_ridge"
   ]
  },
  {
   "cell_type": "code",
   "execution_count": null,
   "metadata": {
    "collapsed": true
   },
   "outputs": [],
   "source": []
  }
 ],
 "metadata": {
  "kernelspec": {
   "display_name": "Python 3",
   "language": "python",
   "name": "python3"
  },
  "language_info": {
   "codemirror_mode": {
    "name": "ipython",
    "version": 3
   },
   "file_extension": ".py",
   "mimetype": "text/x-python",
   "name": "python",
   "nbconvert_exporter": "python",
   "pygments_lexer": "ipython3",
   "version": "3.6.0"
  }
 },
 "nbformat": 4,
 "nbformat_minor": 0
}
